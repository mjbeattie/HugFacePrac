{
 "cells": [
  {
   "attachments": {},
   "cell_type": "markdown",
   "metadata": {},
   "source": [
    "__intro.ipynb__\n",
    "\n",
    "First Commit:  February 23, 2023\n",
    "\n",
    "Matthew J. Beattie\n",
    "\n",
    "This script contains samples from the HuggingFace tutorials."
   ]
  },
  {
   "cell_type": "code",
   "execution_count": null,
   "metadata": {},
   "outputs": [],
   "source": [
    "from transformers import pipeline\n",
    "\n",
    "classifier = pipeline(\"sentiment-analysis\")\n",
    "classifier(\"I've been waiting for a HuggingFace course my whole life!\")"
   ]
  },
  {
   "cell_type": "code",
   "execution_count": 6,
   "metadata": {},
   "outputs": [
    {
     "name": "stderr",
     "output_type": "stream",
     "text": [
      "No model was supplied, defaulted to facebook/bart-large-mnli and revision c626438 (https://huggingface.co/facebook/bart-large-mnli).\n",
      "Using a pipeline without specifying a model name and revision in production is not recommended.\n"
     ]
    },
    {
     "data": {
      "text/plain": [
       "{'sequence': 'My favorite band is The Who.',\n",
       " 'labels': ['male', 'female'],\n",
       " 'scores': [0.9094786047935486, 0.0905214473605156]}"
      ]
     },
     "execution_count": 6,
     "metadata": {},
     "output_type": "execute_result"
    }
   ],
   "source": [
    "classifier = pipeline(\"zero-shot-classification\")\n",
    "classifier(\"My favorite band is The Who.\",\n",
    "            candidate_labels=[\"male\", \"female\"])"
   ]
  },
  {
   "cell_type": "code",
   "execution_count": 8,
   "metadata": {},
   "outputs": [
    {
     "data": {
      "text/plain": [
       "{'sequence': 'I read People magazine.',\n",
       " 'labels': ['female', 'male'],\n",
       " 'scores': [0.7135924696922302, 0.28640756011009216]}"
      ]
     },
     "execution_count": 8,
     "metadata": {},
     "output_type": "execute_result"
    }
   ],
   "source": [
    "classifier(\"I read People magazine.\",\n",
    "            candidate_labels=[\"male\", \"female\"])"
   ]
  },
  {
   "cell_type": "code",
   "execution_count": 9,
   "metadata": {},
   "outputs": [
    {
     "data": {
      "text/plain": [
       "{'sequence': 'My favorite singer is Sarah McLachlan',\n",
       " 'labels': ['female', 'male'],\n",
       " 'scores': [0.996549665927887, 0.003450294490903616]}"
      ]
     },
     "execution_count": 9,
     "metadata": {},
     "output_type": "execute_result"
    }
   ],
   "source": [
    "classifier(\"My favorite singer is Sarah McLachlan\",\n",
    "            candidate_labels=[\"male\", \"female\"])"
   ]
  }
 ],
 "metadata": {
  "kernelspec": {
   "display_name": "py310",
   "language": "python",
   "name": "python3"
  },
  "language_info": {
   "codemirror_mode": {
    "name": "ipython",
    "version": 3
   },
   "file_extension": ".py",
   "mimetype": "text/x-python",
   "name": "python",
   "nbconvert_exporter": "python",
   "pygments_lexer": "ipython3",
   "version": "3.10.9"
  },
  "orig_nbformat": 4,
  "vscode": {
   "interpreter": {
    "hash": "eaa99f7ef3c39a91cabc8718d143bc43fe2e528f5edccf36d03824862b532bb6"
   }
  }
 },
 "nbformat": 4,
 "nbformat_minor": 2
}
